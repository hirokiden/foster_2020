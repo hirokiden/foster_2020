{
 "cells": [
  {
   "cell_type": "markdown",
   "metadata": {},
   "source": [
    "To open notebook in Colab please click below:\n",
    "\n",
    "<a href=\"https://colab.research.google.com/github/bwolfson2/foster_2020/blob/master/Homeworks/Pre-class%20HW.ipynb\" target=\"_parent\"> <img src=\"https://colab.research.google.com/assets/colab-badge.svg\" alt=\"Open In Colab\" /> </a>'\n"
   ]
  },
  {
   "cell_type": "markdown",
   "metadata": {},
   "source": [
    "# Pre-class Homework - Survey and Python review\n",
    "\n",
    "Welcome to the course! The purpose of this homework is to get to know you better and warm up your Python skills before the first class. Make sure to check out the referesher in Module0_Basics if it has been a while since the last time you coded. \n",
    "\n",
    "Please upload your completed notebook to NYU Classes."
   ]
  },
  {
   "cell_type": "markdown",
   "metadata": {},
   "source": [
    "## Part 0: I have gone through the [Colab Basics Jupyter Notebook](https://github.com/bwolfson2/foster_2020/blob/master/Module0_Basics/Colab%20Basics.ipynb)"
   ]
  },
  {
   "cell_type": "markdown",
   "metadata": {},
   "source": [
    "** Mark \"Yes\" below. **"
   ]
  },
  {
   "cell_type": "markdown",
   "metadata": {},
   "source": [
    "_Yes__  I saved this Colab notebook and deleted the relevant cell above\n",
    "\n",
    "__Yes_  I have read and understood the Colab notebook"
   ]
  },
  {
   "cell_type": "markdown",
   "metadata": {},
   "source": [
    "## Part 1: Know the course"
   ]
  },
  {
   "cell_type": "markdown",
   "metadata": {},
   "source": [
    "** 1.1 Read the syllabus (available on NYU classes) in its entirety. Mark \"Yes\" below. **"
   ]
  },
  {
   "cell_type": "markdown",
   "metadata": {},
   "source": [
    "_Yes__  I have read and understood the syllabus for this class."
   ]
  },
  {
   "cell_type": "markdown",
   "metadata": {},
   "source": [
    "## Part 2: Let us know you better"
   ]
  },
  {
   "cell_type": "markdown",
   "metadata": {},
   "source": [
    "** 2.1 Please go to this [link](https://forms.gle/z4fwcPfZ5Kpjck5h9) and fill the survey. Mark \"Yes\" below. **"
   ]
  },
  {
   "cell_type": "markdown",
   "metadata": {},
   "source": [
    "_Yes__  I have read and filled the survey for this class."
   ]
  },
  {
   "cell_type": "markdown",
   "metadata": {},
   "source": [
    "## Part 3: Python review"
   ]
  },
  {
   "cell_type": "markdown",
   "metadata": {},
   "source": [
    "**3.1 Create one Python list of 5 fruits and another one with 5 colors. **"
   ]
  },
  {
   "cell_type": "code",
   "execution_count": null,
   "metadata": {},
   "outputs": [],
   "source": [
    "# Created two lists\n",
    "\n",
    "list_of_fruits = [\"apple\", \"banana\", \"orange\", \"strawberry\", \"kiwi\"]\n",
    "list_of_colors = [\"red\", \"yellow\", \"orange\", \"purple\", \"blue\"]\n"
   ]
  },
  {
   "cell_type": "code",
   "execution_count": null,
   "metadata": {},
   "outputs": [],
   "source": [
    "# Printed two lists to test functionality\n",
    "\n",
    "print(list_of_fruits)\n",
    "print(list_of_colors)"
   ]
  },
  {
   "cell_type": "markdown",
   "metadata": {},
   "source": [
    "**3.2 Go through each fruit (first list) and print out the name of the fruit with one color of the second list without repeating any color. **\n",
    "\n",
    "(don't worry, it doesn't have to be the color of the fruit!)\n",
    "\n",
    "Example of what you should print for one fruit:  _apple is purple_"
   ]
  },
  {
   "cell_type": "code",
   "execution_count": null,
   "metadata": {},
   "outputs": [],
   "source": [
    "# Brought over list, decided to use a 'for' function to run through each of the list for both fruits and colors.\n",
    "# Result is each fruit is listed with each color from second list\n",
    "\n",
    "list_of_fruits = [\"apple\", \"banana\", \"orange\", \"strawberry\", \"kiwi\"]\n",
    "list_of_colors = [\"red\", \"yellow\", \"orange\", \"purple\", \"blue\"]\n",
    "\n",
    "\n",
    "for fruit in list_of_fruits:\n",
    "    for color in list_of_colors:\n",
    "        print(fruit + \" \" + \"is\" + \" \" + color)"
   ]
  },
  {
   "cell_type": "code",
   "execution_count": null,
   "metadata": {},
   "outputs": [],
   "source": [
    "# Also tried importing a 'random' function to randomly select word from each list\n",
    "\n",
    "import random\n",
    "\n",
    "list_of_fruits = [\"apple\", \"banana\", \"orange\", \"strawberry\", \"kiwi\"]\n",
    "list_of_colors = [\"red\", \"yellow\", \"orange\", \"purple\", \"blue\"]\n",
    "\n",
    "print(random.choice(list_of_fruits) + \" \" + \"is\" + \" \" + random.choice(list_of_colors))"
   ]
  },
  {
   "cell_type": "markdown",
   "metadata": {},
   "source": [
    "**3.3 Add two new fruits to your list with a _BUILT-IN_ function. **\n",
    "\n",
    "(You may want to look for the function with the **TAB** hint!)"
   ]
  },
  {
   "cell_type": "code",
   "execution_count": null,
   "metadata": {},
   "outputs": [],
   "source": [
    "# Created new list of fruits to add to original list of fruits\n",
    "\n",
    "list_of_fruits = [\"apple\", \"banana\", \"orange\", \"strawberry\", \"kiwi\"]\n",
    "list_of_colors = [\"red\", \"yellow\", \"orange\", \"purple\", \"blue\"]\n",
    "\n",
    "add_list_of_fruits = [\"pineapple\", \"mango\"]\n",
    "\n",
    "list_of_fruits.extend(add_list_of_fruits)\n",
    "\n",
    "print(list_of_fruits)"
   ]
  },
  {
   "cell_type": "markdown",
   "metadata": {},
   "source": [
    "**3.4 Use the list of fruits and sort the names (put them in alphabetical order). **\n",
    "\n",
    "(Hint: The lists in Python already have a function for that)"
   ]
  },
  {
   "cell_type": "code",
   "execution_count": null,
   "metadata": {},
   "outputs": [],
   "source": [
    "print(sorted(list_of_fruits))"
   ]
  },
  {
   "cell_type": "markdown",
   "metadata": {},
   "source": [
    "**3.5 Create a new empty list called \"count_letters\". Go through your list of fruits, and for each one, add an entry to that new list (count_letters) telling the number of letters each fruit name. Then, print how many letters each fruit has.**\n",
    "\n",
    "Example of what you should print for one fruit: _apple is 5 letters_"
   ]
  },
  {
   "cell_type": "code",
   "execution_count": null,
   "metadata": {},
   "outputs": [],
   "source": [
    "# Created empty new list \"count_letters\", used .append() to add letter count for each corresponding fruit\n",
    "\n",
    "count_letters = []\n",
    "\n",
    "for fruit in list_of_fruits:\n",
    "    # print(len(fruit))\n",
    "    count_letters.append(len(fruit))\n",
    "\n",
    "print(count_letters)\n"
   ]
  },
  {
   "cell_type": "code",
   "execution_count": null,
   "metadata": {},
   "outputs": [],
   "source": [
    "# Used for loop and zip function to concatenate syntax to print each list character from top to bottom using str()\n",
    "#Reference -> https://stackoverflow.com/questions/40846137/iterate-through-2-lists-at-once-in-python\n",
    "\n",
    "for fruit, count in zip(list_of_fruits, count_letters):\n",
    "    print(str(fruit) + \" \" + \"is\" + \" \" + str(count) + \" \" + \"letters\")\n"
   ]
  },
  {
   "cell_type": "markdown",
   "metadata": {},
   "source": [
    "** 3.6 Make a function called `one_more` that takes a list (input_list) and returns a new list (output_list) where each element of the original will be increased by 1 and divided by 2. **"
   ]
  },
  {
   "cell_type": "code",
   "execution_count": null,
   "metadata": {},
   "outputs": [],
   "source": [
    "# Original Problem is as follows:\n",
    "\n",
    "def one_more(input_list):\n",
    "    output_list = []   \n",
    "    # Your code goes here!\n",
    "    \n",
    "    return output_list"
   ]
  },
  {
   "cell_type": "code",
   "execution_count": null,
   "metadata": {},
   "outputs": [],
   "source": [
    "input_list = [7,19,17]\n",
    "\n",
    "def one_more(input_list):\n",
    "    output_list = []\n",
    "#     input_list = [5,7,9]\n",
    "    output_list.extend(input_list)\n",
    "    for i in output_list:\n",
    "        print(int((i+1)/2))\n",
    "    return output_list\n",
    "    \n",
    "print(one_more(input_list))\n",
    "\n"
   ]
  },
  {
   "cell_type": "markdown",
   "metadata": {},
   "source": [
    "** 3.7 Use the previous function to change the value of a list of 10 random numbers. **"
   ]
  },
  {
   "cell_type": "code",
   "execution_count": null,
   "metadata": {},
   "outputs": [],
   "source": [
    "# In order to derive a list of 10 random numbers, I thought a worthwhile approach was to utilize input() \n",
    "# so user can enter random numbers, with minor tweak to prior formula\n",
    "\n",
    "\n",
    "# Tips on customized user inputs derived from Stackoverflow\n",
    "# https://stackoverflow.com/questions/37195604/python-how-to-convert-user-input-into-a-list"
   ]
  },
  {
   "cell_type": "code",
   "execution_count": null,
   "metadata": {},
   "outputs": [],
   "source": [
    "def one_more():\n",
    "    output_list = []\n",
    "    for x in range(10):\n",
    "        input_list = int(input(\"Choose Number \"))\n",
    "        output_list.append(input_list)\n",
    "        print(\"\\nChosen Number was %d\\n\" % input_list)\n",
    "    print(\"Your list is \\n\", output_list)\n",
    "    for i in output_list:\n",
    "        print(\"Your modified list # is\", (i + 1) / 2)\n",
    "\n",
    "    return one_more()"
   ]
  },
  {
   "cell_type": "code",
   "execution_count": null,
   "metadata": {},
   "outputs": [],
   "source": [
    "print(one_more())"
   ]
  },
  {
   "cell_type": "markdown",
   "metadata": {
    "collapsed": true
   },
   "source": [
    "# To submit the homework save it to your google drive (see Part 0), download it and upload to NYU Classes under assignments\n",
    "\n"
   ]
  },
  {
   "cell_type": "code",
   "execution_count": null,
   "metadata": {},
   "outputs": [],
   "source": []
  }
 ],
 "metadata": {
  "kernelspec": {
   "display_name": "Python 3",
   "language": "python",
   "name": "python3"
  },
  "language_info": {
   "codemirror_mode": {
    "name": "ipython",
    "version": 3
   },
   "file_extension": ".py",
   "mimetype": "text/x-python",
   "name": "python",
   "nbconvert_exporter": "python",
   "pygments_lexer": "ipython3",
   "version": "3.7.4"
  }
 },
 "nbformat": 4,
 "nbformat_minor": 2
}
